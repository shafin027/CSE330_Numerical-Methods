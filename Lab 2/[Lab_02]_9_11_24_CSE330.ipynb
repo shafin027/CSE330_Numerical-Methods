{
  "cells": [
    {
      "cell_type": "markdown",
      "metadata": {
        "id": "ix8UYABygxwV"
      },
      "source": [
        "Make sure you remove `raise NotImplementedError()` and fill in any place that says `# YOUR CODE HERE`, as well as your `NAME`, `ID`, and `LAB_SECTION` below:"
      ]
    },
    {
      "cell_type": "code",
      "execution_count": null,
      "metadata": {
        "id": "yRMG6NyDgxwa"
      },
      "outputs": [],
      "source": [
        "NAME = \"Shafin Mahamud\"\n",
        "ID = \"23101109\"\n",
        "SECTION = \"09\""
      ]
    },
    {
      "cell_type": "markdown",
      "metadata": {
        "id": "YO3vu3cQgxwc"
      },
      "source": [
        "---"
      ]
    },
    {
      "cell_type": "markdown",
      "metadata": {
        "deletable": false,
        "editable": false,
        "id": "6D4EuqaHgxwc",
        "nbgrader": {
          "cell_type": "markdown",
          "checksum": "a1a4b82e1290e7fe207981d775116189",
          "grade": false,
          "grade_id": "part1_intro",
          "locked": true,
          "schema_version": 3,
          "solution": false,
          "task": false
        }
      },
      "source": [
        "# Part 1: Representing a Polynomial\n",
        "\n",
        "Polynomials are function of the following format\n",
        "\n",
        "$$p(x) = a_0 + a_1 x ^ 1 + a_2 x ^ 2 + ... + a_n x ^ n,$$\n",
        "\n",
        "where, $[a_0, a_1, \\cdots a_n]$ are called coefficients and $n$ (called the degree or order) is a non-negative integer.\n",
        "\n",
        "\n",
        "This can also be written as:\n",
        "\n",
        "$$y = f(x) = a_0 x^0 + a_1 x ^ 1 + a_2 x ^ 2 + ... + a_n x ^ n.$$\n",
        "\n",
        "**Example**\n",
        "$$ y = 1 + 2x^2 + 5x^4 $$ is a polynomial of order 4 ($ = n$) with $n+1$ coeffecients $a_0 = 1, a_1 = 0, a_2 = 2, a_3 = 0, a_4 = 5$"
      ]
    },
    {
      "cell_type": "markdown",
      "metadata": {
        "deletable": false,
        "editable": false,
        "id": "uUKAl1BBgxwd",
        "nbgrader": {
          "cell_type": "markdown",
          "checksum": "4768b3ef2708eeb7d4e7834f6871c77b",
          "grade": false,
          "grade_id": "header_list",
          "locked": true,
          "schema_version": 3,
          "solution": false,
          "task": false
        }
      },
      "source": [
        "## **Method 1**: Using List - 1 Marks\n",
        "\n",
        "---"
      ]
    },
    {
      "cell_type": "code",
      "execution_count": null,
      "metadata": {
        "deletable": false,
        "editable": false,
        "id": "6TTFQ7HEgxwd",
        "nbgrader": {
          "cell_type": "code",
          "checksum": "a5e0eb4e8aa8fa601c4d5b1f8bb7518a",
          "grade": false,
          "grade_id": "import",
          "locked": true,
          "schema_version": 3,
          "solution": false,
          "task": false
        }
      },
      "outputs": [],
      "source": [
        "import matplotlib.pyplot as plt\n",
        "import numpy as np\n",
        "\n",
        "\n",
        "# numpy is used for efficient array (vector or matrix) operations\n",
        "# pyplot is used for plotting\n",
        "# Must read: [https://www.tutorialspoint.com/numpy/numpy_matplotlib.htm]"
      ]
    },
    {
      "cell_type": "code",
      "execution_count": null,
      "metadata": {
        "colab": {
          "base_uri": "https://localhost:8080/"
        },
        "deletable": false,
        "editable": false,
        "id": "GkHghXVjgxwe",
        "nbgrader": {
          "cell_type": "code",
          "checksum": "a8ec21a0babc1a6a8e9ce264a80fb7a9",
          "grade": false,
          "grade_id": "poly_list",
          "locked": true,
          "schema_version": 3,
          "solution": false,
          "task": false
        },
        "outputId": "ba7cf138-a181-46f5-ec41-ae4d4e10dc4c"
      },
      "outputs": [
        {
          "name": "stdout",
          "output_type": "stream",
          "text": [
            "6553.0\n",
            "\n",
            "[8.0, 89.0, 424.0, 1313.0, 3176.0, 6553.0]\n"
          ]
        }
      ],
      "source": [
        "\n",
        "coeff = [1, 0, 2, 0, 5] # coefficients of the polynomial\n",
        "n = len(coeff) - 1 # degree. Remember: number of coeff = degree + 1\n",
        "\n",
        "'''\n",
        "For a single value of x, finding p(x)\n",
        "\n",
        "Note that this is an example of block comment in python. A block comment\n",
        "starts with three ' and ends with three '.\n",
        "'''\n",
        "\n",
        "x = 6.0\n",
        "p_x = 0.0  #y values\n",
        "\n",
        "\n",
        "for i in range(n+1):\n",
        "  p_x += coeff[i]*x**i\n",
        "\n",
        "print(p_x)\n",
        "print()\n",
        "\n",
        "x_arr = [1.0, 2.0, 3.0, 4.0, 5.0, 6.0]\n",
        "p_x_arr = []\n",
        "\n",
        "for i in range(len(x_arr)):\n",
        "  temp = 0\n",
        "  for j in range(n+1):\n",
        "    temp += coeff[j]*x_arr[i]**j\n",
        "\n",
        "  p_x_arr.append(temp)\n",
        "print(p_x_arr)"
      ]
    },
    {
      "cell_type": "markdown",
      "metadata": {
        "deletable": false,
        "editable": false,
        "id": "0-q5-L16gxwg",
        "nbgrader": {
          "cell_type": "markdown",
          "checksum": "ebd48410397a242a7c85eae3bef2090e",
          "grade": false,
          "grade_id": "header_class",
          "locked": true,
          "schema_version": 3,
          "solution": false,
          "task": false
        }
      },
      "source": [
        "## **Method 2 (Better)**: Using a Class - 1.5 Marks\n",
        "\n",
        "---\n",
        "Complete the implementation of the polynomial class as showed in the lecture"
      ]
    },
    {
      "cell_type": "code",
      "execution_count": null,
      "metadata": {
        "deletable": false,
        "id": "cz0rAEdUgxwg",
        "nbgrader": {
          "cell_type": "code",
          "checksum": "8bc8bdbd42af74922557a6c7c1004dc3",
          "grade": false,
          "grade_id": "part01_ans",
          "locked": false,
          "schema_version": 3,
          "solution": true,
          "task": false
        }
      },
      "outputs": [],
      "source": [
        "'''\n",
        "Lab task 1\n",
        "Here we implement a Polynomial class with three methods: the constructor\n",
        "__init__(), the toString method __repr__(), and a method to make the objects\n",
        "of the class callable, __call__() method\n",
        "'''\n",
        "# Polynomial Class\n",
        "\n",
        "class Polynomial:\n",
        "  # Constructor, note that it starts and ends with two underscores\n",
        "  def __init__(self, coeff):\n",
        "    '''\n",
        "    Every internal variable of the object must be saved and initialized\n",
        "    in this method: self.variable = value\n",
        "    '''\n",
        "    self.coeff = coeff\n",
        "    self.degree = len(coeff) - 1\n",
        "\n",
        "  # Constructor to make the object callable\n",
        "  def __call__(self, x_arr):\n",
        "    p_x_arr = []\n",
        "    for i in range(len(x_arr)):\n",
        "        temp = 0\n",
        "        for j in range(self.degree+1):\n",
        "          temp += self.coeff[j]*x_arr[i]**j\n",
        "\n",
        "        p_x_arr.append(temp)\n",
        "\n",
        "    return p_x_arr\n",
        "\n",
        "\n",
        "  # String representation method of the object (similar to toString() of java)\n",
        "  def __repr__(self):\n",
        "    # remember: a formatted string must start with f.\n",
        "\n",
        "    str_ret = f'Polynomial of degree {self.degree}\\np(x) = '\n",
        "    for i in range(self.degree + 1):\n",
        "        a_val = self.coeff[i]\n",
        "        if i != 0:\n",
        "            if a_val >= 0:\n",
        "                str_ret += f'+ {a_val}x^{i} '\n",
        "            else:\n",
        "                str_ret += f'- {-a_val}x^{i} '\n",
        "        else:\n",
        "            str_ret += f'{a_val}x^{i} '\n",
        "\n",
        "    return str_ret\n",
        "\n",
        "  # custom method 1: to get the degree of the polynomial\n",
        "  def get_degree(self):\n",
        "    # --------------------------------------------\n",
        "    return self.degree\n",
        "    raise NotImplementedError()\n",
        "    # --------------------------------------------\n",
        "\n",
        "  # custom method 2: to get the coefficients of the polynomial\n",
        "  def get_coeffs(self):\n",
        "    # --------------------------------------------\n",
        "    return self.coeff\n",
        "    raise NotImplementedError()\n",
        "    # --------------------------------------------"
      ]
    },
    {
      "cell_type": "code",
      "execution_count": null,
      "metadata": {
        "colab": {
          "base_uri": "https://localhost:8080/"
        },
        "deletable": false,
        "editable": false,
        "id": "jnHrzHXygxwi",
        "nbgrader": {
          "cell_type": "code",
          "checksum": "a7f2fe5f2eedf93d2e3a5ce5ba099e5b",
          "grade": true,
          "grade_id": "part01_test",
          "locked": true,
          "points": 10,
          "schema_version": 3,
          "solution": false,
          "task": false
        },
        "outputId": "29a3a3fe-2aad-44c9-92ff-c9896cab6421"
      },
      "outputs": [
        {
          "name": "stdout",
          "output_type": "stream",
          "text": [
            "[8.0, 89.0, 424.0, 1313.0, 3176.0]\n"
          ]
        }
      ],
      "source": [
        "# test cases for your answer\n",
        "x_arr = np.array([1, 2, 3, 4, 5])\n",
        "\n",
        "coeff = np.array([1.0, 0.0, 2.0, 0.0, 5.0])\n",
        "p = Polynomial(coeff)\n",
        "\n",
        "results = [8, 89, 424, 1313, 3176]\n",
        "test = p(x_arr)\n",
        "print(test)\n",
        "\n",
        "np.testing.assert_array_equal(results, test)"
      ]
    },
    {
      "cell_type": "code",
      "execution_count": null,
      "metadata": {
        "colab": {
          "base_uri": "https://localhost:8080/"
        },
        "deletable": false,
        "editable": false,
        "id": "UgcNqaKFgxwi",
        "nbgrader": {
          "cell_type": "code",
          "checksum": "09a4a08e433abc426afdb8aa66175a41",
          "grade": false,
          "grade_id": "sample_output",
          "locked": true,
          "schema_version": 3,
          "solution": false,
          "task": false
        },
        "outputId": "22bd495a-1c38-44cd-f4f4-f9dfaf42a137"
      },
      "outputs": [
        {
          "name": "stdout",
          "output_type": "stream",
          "text": [
            "Polynomial of degree 4\n",
            "p(x) = 1.0x^0 + 0.0x^1 + 2.0x^2 + 0.0x^3 + 5.0x^4 \n",
            "\n",
            "p([1 2 3 4 5]) = [8.0, 89.0, 424.0, 1313.0, 3176.0]\n"
          ]
        }
      ],
      "source": [
        "# an example to see if our implementation works\n",
        "coeff = np.array([1.0, 0.0, 2.0, 0.0, 5.0])\n",
        "p = Polynomial(coeff)\n",
        "print(p)  # check if printable\n",
        "x_arr = np.array([1, 2, 3, 4, 5])\n",
        "print()\n",
        "print(f\"p({x_arr}) =\", p(x_arr)) # check if the object is callable\n",
        "# should print p([1 2 3 4 5]) =  [   8.   89.  424. 1313. 3176.]"
      ]
    },
    {
      "cell_type": "markdown",
      "metadata": {
        "id": "vuYkYozxgxwi"
      },
      "source": [
        "# Part 2: Polynomial Interpolation (Matrix Method)\n",
        "\n",
        "If we have  $n+1$ nodes, that is,  $\\{(x_0, y_0), (x_1, y_1), (x_2, y_2), (x_{n}, y_{n})\\}$ that satisfies a polynomial of order $n$, it can be written as:\n",
        "\n",
        "\\begin{align}\n",
        "&a_0 + a_1  x_0 + a_2  x_0^2 + \\cdots a_n  x_0^n = y_0\\\\\n",
        "&a_0 + a_1  x_1 + a_2  x_1^2 + \\cdots a_n  x_1^n = y_1\\\\\n",
        "&a_0 + a_1  x_2 + a_2  x_2^2 + \\cdots a_n  x_2^n = y_2\\\\\n",
        "&\\cdots\\\\\n",
        "&a_0 + a_1  x_{n-1} + a_2  x_{n}^2 + \\cdots + a_n  x_{n}^n = y_{n}\\\\\n",
        "\\end{align}\n",
        "\n",
        "Here, $p(x) = a_0 + a_1x^1 + a_2x^2 + \\cdots a_nx^n$ is called the fitted polynomial of the given data points (nodes). Using this polynomial to find the $y_k$ corresponding to an $x_k$ with the range of the given nodes is called polynomial interpolation.\n",
        "\n",
        "In matrix form, the equations can be written as  $$\\mathbf{Xa = y},$$\n",
        "\n",
        "where $\\mathbf{X} = $\n",
        "\n",
        "\\begin{bmatrix}\n",
        "x_0^0 & x_0^1 & x_0^2 & \\cdots & x_0^n\\\\\n",
        "x_1^0 & x_1^1 & x_1^2 & \\cdots & x_1^n\\\\\n",
        "\\vdots & \\vdots & \\vdots & \\ddots & \\vdots\\\\\n",
        "x_n^0 & x_{n}^1 & x_n^2 & \\cdots & x_n^n\\\\\n",
        "\\end{bmatrix}\n",
        "\n",
        "$\\mathbf{a} = $\n",
        "\\begin{bmatrix}\n",
        "a_0\\\\\n",
        "a_1\\\\\n",
        "\\vdots\\\\\n",
        "a_n\n",
        "\\end{bmatrix}\n",
        "\n",
        "and $\\mathbf{y} = $\n",
        "\\begin{bmatrix}\n",
        "y_0\\\\\n",
        "y_1\\\\\n",
        "\\vdots\\\\\n",
        "y_n\n",
        "\\end{bmatrix}\n",
        "\n",
        "From this, we can solve for $\\mathbf{a}$ using\n",
        "$$\\mathbf{a = X^{-1}y}.$$\n",
        "\n"
      ]
    },
    {
      "cell_type": "markdown",
      "metadata": {
        "id": "OWCtftrNb7gE"
      },
      "source": [
        "## **Method 3**: Using Vandermonde Matrix Method - 1.5 Marks\n",
        "\n",
        " ---"
      ]
    },
    {
      "cell_type": "code",
      "execution_count": null,
      "metadata": {
        "deletable": false,
        "id": "mgS2AYrxgxwj",
        "nbgrader": {
          "cell_type": "code",
          "checksum": "51d07e5c4f10a9f3567c856d29392422",
          "grade": false,
          "grade_id": "task02_ans",
          "locked": false,
          "schema_version": 3,
          "solution": true,
          "task": false
        }
      },
      "outputs": [],
      "source": [
        "'''\n",
        "Here we implement a function which takes a discrete x and y array, and returns\n",
        "a Polynomial object (the one we just implemented). This polynomial object can\n",
        "be used to calculate y for any other value of x (not in that list) within the\n",
        "range\n",
        "'''\n",
        "def get_poly(data_x, data_y):\n",
        "    n_nodes = len(data_x)\n",
        "    # np.zeors((a, b)) returns a (a x b) matrix, i.e., a rows and b columns\n",
        "    X = np.zeros((n_nodes, n_nodes))\n",
        "    for i in range(n_nodes):\n",
        "      for j in range(n_nodes):\n",
        "        X[i][j] = data_x[i]**j\n",
        "    # Populate the X matrix with appropriate values\n",
        "    # YOUR CODE HERE\n",
        "\n",
        "\n",
        "    print(X)\n",
        "    # --------------------------------------------\n",
        "    # np.linalg.inv is used to find the inverse\n",
        "    # but pinv is more efficient\n",
        "    X_inv = np.linalg.pinv(X) # pseudo inverse\n",
        "    a = np.dot(X_inv, data_y)\n",
        "    p = Polynomial(a)\n",
        "\n",
        "    return p"
      ]
    },
    {
      "cell_type": "code",
      "execution_count": null,
      "metadata": {
        "colab": {
          "base_uri": "https://localhost:8080/"
        },
        "deletable": false,
        "editable": false,
        "id": "Jq7J4X7kgxwj",
        "nbgrader": {
          "cell_type": "code",
          "checksum": "dbd631bf10d397f213423b5fd70a82d7",
          "grade": true,
          "grade_id": "task02_test",
          "locked": true,
          "points": 10,
          "schema_version": 3,
          "solution": false,
          "task": false
        },
        "outputId": "254228a8-ff51-4233-e02c-b907065e4ceb"
      },
      "outputs": [
        {
          "name": "stdout",
          "output_type": "stream",
          "text": [
            "[[   1.   -3.    9.  -27.   81. -243.]\n",
            " [   1.   -2.    4.   -8.   16.  -32.]\n",
            " [   1.   -1.    1.   -1.    1.   -1.]\n",
            " [   1.    0.    0.    0.    0.    0.]\n",
            " [   1.    1.    1.    1.    1.    1.]\n",
            " [   1.    3.    9.   27.   81.  243.]]\n",
            "[-80.00000000000054, -74.6099768905694, -69.36169491556362, -64.26436346250605, -59.326221339679606, -54.554564168211584, -49.955771774158755, -45.53533558059178, -41.297885999680005, -37.24721982477618, -33.386327622501184, -29.717421124828654, -26.241960621169802, -22.960682350457994, -19.87362589323353, -16.98016156372833, -14.27901780195068, -11.768308565769843, -9.445560723000838, -7.307741443489137, -5.3512855911953645, -3.5721231162799603, -1.9657064471879364, -0.527037882733588, 0.7493030158148648, 1.8691320326505192, 2.838632905343095, 3.6643299327542396, 4.3530605829528195, 4.911948101130213, 5.348374117515607, 5.6699512552913, 5.884495738507984, 6.000000000000055, 6.02460528930089, 5.966574280558162, 5.834263680449121, 5.6360968360959, 5.380536342980803, 5.0760566528616025, 4.731116681686838, 4.354132417511105, 3.9534495284103577, 3.537315970397203, 3.1138545953361865, 2.6910357588591087, 2.276649928280298, 1.8782802905119174, 1.5032753599792605, 1.1587215865360443, 0.851415963379704, 0.5878386349666916, 0.3741255049277695, 0.21604084398330436, 0.11894989785856817, 0.08779149519902656, 0.1270506554856386, 0.24073119695015172, 0.4323283444903969, 0.7048013375855842, 1.0605460382116016, 1.5013675387562968, 2.0284527699347934, 2.642343108704774, 3.342906986181776, 4.129312495554486, 5.000000000000045, 5.952654740599333, 6.984179444252268, 8.090666931593104, 9.267372724905721, 10.508687656038928, 11.808110474321756, 13.158220454478773, 14.550650004545279, 15.97605727378277, 17.42409876059411, 18.883401920438857, 20.341537773748573, 21.784993513842103, 23.199145114840874, 24.568229939584203, 25.87531934754457, 27.102291302742938, 28.229802981664008, 29.23726338117161, 30.102805926423848, 30.803261078788516, 31.314128943758398, 31.609551878866448, 31.662287101601198, 31.44367929732202, 30.923633227174395, 30.07058633600527, 28.85148136027825, 27.231738935989014, 25.175230206580544, 22.64424943085838, 19.599486590906054, 16.0000000000002]\n"
          ]
        }
      ],
      "source": [
        "# test cases for your answer\n",
        "data_x = np.array([-3., -2., -1., 0., 1., 3.])\n",
        "data_y = np.array([-80., -13., 6., 1., 5., 16.])\n",
        "p = get_poly(data_x, data_y)\n",
        "\n",
        "results = np.array([-80, -74.60997689, -69.36169492, -64.26436346, -59.32622134,\n",
        "                   -54.55456417, -49.95577177, -45.53533558, -41.297886, -37.24721982,\n",
        "                   -33.38632762, -29.71742112, -26.24196062, -22.96068235, -19.87362589,\n",
        "                   -16.98016156, -14.2790178, -11.76830857,  -9.44556072,  -7.30774144,\n",
        "                   -5.35128559, -3.57212312, -1.96570645, -0.52703788, 0.74930302,\n",
        "                   1.86913203, 2.83863291, 3.66432993, 4.35306058, 4.9119481,\n",
        "                   5.34837412, 5.66995126, 5.88449574, 6, 6.02460529,\n",
        "                   5.96657428, 5.83426368, 5.63609684, 5.38053634, 5.07605665,\n",
        "                   4.73111668, 4.35413242, 3.95344953, 3.53731597, 3.1138546,\n",
        "                   2.69103576, 2.27664993, 1.87828029, 1.50327536, 1.15872159,\n",
        "                   0.85141596, 0.58783863, 0.3741255, 0.21604084, 0.1189499,\n",
        "                   0.0877915, 0.12705066, 0.2407312, 0.43232834, 0.70480134,\n",
        "                   1.06054604, 1.50136754, 2.02845277, 2.64234311, 3.34290699,\n",
        "                   4.1293125, 5, 5.95265474, 6.98417944, 8.09066693,\n",
        "                   9.26737272, 10.50868766, 11.80811047, 13.15822045, 14.55065,\n",
        "                   15.97605727, 17.42409876, 18.88340192, 20.34153777, 21.78499351,\n",
        "                   23.19914511, 24.56822994, 25.87531935, 27.1022913, 28.22980298,\n",
        "                   29.23726338, 30.10280593, 30.80326108, 31.31412894, 31.60955188,\n",
        "                   31.6622871, 31.4436793, 30.92363323, 30.07058634, 28.85148136,\n",
        "                   27.23173894, 25.17523021, 22.64424943, 19.59948659, 16])\n",
        "\n",
        "x_arr = np.linspace(-3, 3, 100)\n",
        "test = p(x_arr)\n",
        "print(test)\n",
        "\n",
        "np.testing.assert_array_almost_equal(test, results)"
      ]
    },
    {
      "cell_type": "code",
      "execution_count": null,
      "metadata": {
        "colab": {
          "base_uri": "https://localhost:8080/",
          "height": 594
        },
        "deletable": false,
        "editable": false,
        "id": "iCGAl18agxwk",
        "nbgrader": {
          "cell_type": "code",
          "checksum": "277c42ed406022472573b16fb698714a",
          "grade": false,
          "grade_id": "plot",
          "locked": true,
          "schema_version": 3,
          "solution": false,
          "task": false
        },
        "outputId": "1325fc95-8f32-4883-c45d-4d00b5221117"
      },
      "outputs": [
        {
          "name": "stdout",
          "output_type": "stream",
          "text": [
            "[[   1.   -3.    9.  -27.   81. -243.]\n",
            " [   1.   -2.    4.   -8.   16.  -32.]\n",
            " [   1.   -1.    1.   -1.    1.   -1.]\n",
            " [   1.    0.    0.    0.    0.    0.]\n",
            " [   1.    1.    1.    1.    1.    1.]\n",
            " [   1.    3.    9.   27.   81.  243.]]\n",
            "\n"
          ]
        },
        {
          "data": {
            "image/png": "[encoded data removed]",
            "text/plain": [
              "<Figure size 640x480 with 1 Axes>"
            ]
          },
          "metadata": {},
          "output_type": "display_data"
        }
      ],
      "source": [
        "data_x = np.array([-3., -2., -1., 0., 1., 3.])\n",
        "data_y = np.array([-80., -13., 6., 1., 5., 16.])\n",
        "p = get_poly(data_x, data_y)\n",
        "'''\n",
        "np.linspace(a, b, n) returns a numpy array of n points equally\n",
        "spaced from a to b\n",
        "'''\n",
        "x_arr = np.linspace(-3, 3, 100)\n",
        "# interpolated values\n",
        "y_interp = p(x_arr)\n",
        "\n",
        "# pyplot is used for plotting\n",
        "# Must read: [https://www.tutorialspoint.com/numpy/numpy_matplotlib.htm]\n",
        "\n",
        "plt.plot(x_arr, y_interp, 'b')\n",
        "plt.title('Polynomial Graph')\n",
        "plt.plot(data_x, data_y, 'g*')\n",
        "plt.xlabel('x - axis')\n",
        "plt.ylabel('y - axis')\n",
        "\n",
        "print()\n",
        "plt.show()"
      ]
    },
    {
      "cell_type": "markdown",
      "metadata": {
        "id": "YT5cmEDZcMH2"
      },
      "source": [
        "# Daily Evaluation - 4 Marks"
      ]
    },
    {
      "cell_type": "code",
      "execution_count": null,
      "metadata": {
        "colab": {
          "base_uri": "https://localhost:8080/"
        },
        "id": "9DTuKJoAcQme",
        "outputId": "1722ba68-42ec-4949-ad08-79b2150e30af"
      },
      "outputs": [
        {
          "name": "stdout",
          "output_type": "stream",
          "text": [
            "[[ 1.       -0.65      0.4225   -0.274625]\n",
            " [ 1.        0.56      0.3136    0.175616]\n",
            " [ 1.        1.5       2.25      3.375   ]\n",
            " [ 1.       -0.79      0.6241   -0.493039]]\n",
            "236.86910009607362\n"
          ]
        }
      ],
      "source": [
        "#Evaluation\n",
        "\n",
        "def get_poly(data_x, data_y):\n",
        "    n_nodes = len(data_x)\n",
        "    # np.zeors((a, b)) returns a (a x b) matrix, i.e., a rows and b columns\n",
        "    X = np.zeros((n_nodes, n_nodes))\n",
        "    for i in range(n_nodes):\n",
        "      for j in range(n_nodes):\n",
        "        X[i][j] = data_x[i]**j\n",
        "    # Populate the X matrix with appropriate values\n",
        "    # YOUR CODE HERE\n",
        "\n",
        "\n",
        "    print(X)\n",
        "    # --------------------------------------------\n",
        "    # np.linalg.inv is used to find the inverse\n",
        "    # but pinv is more efficient\n",
        "    X_inv = np.linalg.pinv(X) # pseudo inverse\n",
        "    a = np.dot(X_inv, data_y)\n",
        "    p = Polynomial(a)\n",
        "\n",
        "    return p\n",
        "\n",
        "\n",
        "data_x = np.array([-0.65,0.56,1.5,-0.79])\n",
        "data_y = np.array([1.73,1.93,2.74,1.42])\n",
        "p = get_poly(data_x, data_y)\n",
        "x = [7]\n",
        "test = p(x)\n",
        "print(test[0])"
      ]
    }
  ],
  "metadata": {
    "colab": {
      "provenance": []
    },
    "kernelspec": {
      "display_name": "Python 3",
      "language": "python",
      "name": "python3"
    },
    "language_info": {
      "codemirror_mode": {
        "name": "ipython",
        "version": 3
      },
      "file_extension": ".py",
      "mimetype": "text/x-python",
      "name": "python",
      "nbconvert_exporter": "python",
      "pygments_lexer": "ipython3",
      "version": "3.7.4"
    }
  },
  "nbformat": 4,
  "nbformat_minor": 0
}
