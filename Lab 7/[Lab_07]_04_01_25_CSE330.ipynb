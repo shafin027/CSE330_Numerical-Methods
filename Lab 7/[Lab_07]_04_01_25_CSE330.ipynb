{
  "cells": [
    {
      "cell_type": "markdown",
      "metadata": {
        "id": "wwuJllZf2gbd"
      },
      "source": [
        "Make sure you remove `raise NotImplementedError()` and fill in any place that says `# YOUR CODE HERE`, as well as your `NAME`, `ID`, and `LAB_SECTION` below:"
      ]
    },
    {
      "cell_type": "code",
      "execution_count": null,
      "metadata": {
        "id": "yRMG6NyDgxwa"
      },
      "outputs": [],
      "source": [
        "NAME = \"Shafin Mahamud\"\n",
        "ID = \"23101109\"\n",
        "SECTION = \"09\""
      ]
    },
    {
      "cell_type": "markdown",
      "metadata": {
        "id": "cbYDwRgN3vcq"
      },
      "source": [
        "# Part 1: Solving a linear system using inverse matrix - 2 Marks\n",
        "\n",
        "We have a linear system\n",
        "\n",
        "\\begin{align}\n",
        "&a_{11} x_1 + a_{12} x_2 +  \\cdots  + a_{1n} x_n = b_1\\\\\n",
        "&a_{21} x_1 + a_{22} x_2 +  \\cdots + a_{2n} x_n = b_2\\\\\n",
        "&\\cdots\\\\\n",
        "&a_{n1} x_1 + a_{n2} x_2 +  \\cdots + a_{nn} x_n = b_n\\\\\n",
        "\\end{align}\n",
        "\n",
        "It is convenient to express this system in the\n",
        "matrix form\n",
        "\n",
        "\\begin{align}\n",
        "Ax = b\n",
        "\\end{align}\n",
        "\n",
        "where $A$ is an $n \\times n$ square matrix with elements $a_{ij}$, and $x$, $b$ are $n \\times 1$ vectors.\n",
        "\n",
        "We have to keep in mind that this system will have a unique solution iff $A$ is non-singular, given by $x = A^{-1}b.$"
      ]
    },
    {
      "cell_type": "code",
      "execution_count": null,
      "metadata": {
        "id": "aQX8PNoJ39Ak"
      },
      "outputs": [],
      "source": [
        "import matplotlib.pyplot as plt\n",
        "import numpy as np\n",
        "import sys"
      ]
    },
    {
      "cell_type": "code",
      "execution_count": null,
      "metadata": {
        "id": "liidjMKS-DBM"
      },
      "outputs": [],
      "source": [
        "def get_result_by_inverse_matrix(A, b):\n",
        "  return 'singular' if np.linalg.det(A) == 0 else np.linalg.inv(A).dot(b)"
      ]
    },
    {
      "cell_type": "code",
      "execution_count": null,
      "metadata": {
        "colab": {
          "base_uri": "https://localhost:8080/"
        },
        "id": "Ege-eIAp-CTV",
        "outputId": "6476375c-4ebe-445c-e5df-54a1aa0eb2b1"
      },
      "outputs": [
        {
          "name": "stdout",
          "output_type": "stream",
          "text": [
            "[11.  -2.5 -6. ]\n"
          ]
        }
      ],
      "source": [
        "data_A = np.array([[1, 2, 1], [1, -2, 2], [2, 12, -2]])\n",
        "data_b = np.array([0,4,4])\n",
        "test = get_result_by_inverse_matrix(data_A, data_b)\n",
        "results = [11, -2.5, -6]\n",
        "print(test)\n",
        "np.testing.assert_array_equal(test, results)"
      ]
    },
    {
      "cell_type": "markdown",
      "metadata": {
        "id": "eyAJANDCC08f"
      },
      "source": [
        "# Part 2: Gaussian elimination - 2 Marks\n",
        "\n",
        "Gaussian elimination uses elementary row operations to transform the system to upper triangular form $Ux = y$.\n",
        "\n",
        "Elementary row operations include swapping rows and adding multiples of one rowto another.\n",
        "They won’t change the solution $x$, but will change the matrix $A$ and the right-hand side $b$.\n",
        "\n",
        "The upper triangular matrix, $𝑈$, is defined as\n",
        "\n",
        "\\begin{bmatrix}\n",
        "u_{11} & u_{12} & \\cdots & u_{1n}\\\\\n",
        "0 & u_{22} & \\cdots & u_{2n}\\\\\n",
        "\\vdots & \\vdots & \\ddots & \\vdots\\\\\n",
        "0 & \\cdots & 0 & u_{nn}\\\\\n",
        "\\end{bmatrix}\n"
      ]
    },
    {
      "cell_type": "markdown",
      "metadata": {
        "id": "fZXuDaxsPhJm"
      },
      "source": [
        "**Algorithm of Gaussian elimination**\n",
        "\n",
        "Let $A^{(1)}=A$ and $b^{(1)}=b$. Then for each k from 1 to $n-1$, compute a new matrix $A^{(k+1)}$ and right-hand side $b^{(k+1)}$ by the following procedure:\n",
        "\n",
        "\n",
        "1.   Define the row multipliers\n",
        "\n",
        "\\begin{align}\n",
        "m_{ij} = \\frac{a_{ik}^{(k)}}{a_{kk}^{(k)}}, i=k+1,\\cdot \\cdot \\cdot,n.\n",
        "\\end{align}\n",
        "2.   Use these to remove the unknown $x_k$ from equations $k + 1$ to $n$, leaving\n",
        "\n",
        "\\begin{align}\n",
        "a_{ij}^{(k+1)}=a_{ij}^{(k)}-m_{ik}a_{kj}^{(k)}, b_{i}^{(k+1)}=b_{i}^{(k)}-m_{ik}b_{k}^{(k)}, i,j=k+1,\\cdot \\cdot \\cdot, n.\n",
        "\\end{align}\n",
        "\n",
        "It is helpful to combine these matrices to form an Augmented matrix (matrix $𝑏$ is the fourth column). We will perform this row operations on the Augmented matrix. It takes care of both $𝐴$ and $𝑏$ matrixes at the same time.\n",
        "\n",
        "After generating the upper triangular matrix, we have to apply **backward substitution method**.\n",
        "For any $n \\times n$ upper triangular system, $Ux = b$, the solution is:\n",
        "\n",
        "\\begin{align}\n",
        "x_j = \\frac{b_j-\\sum_{k=j+1}^{n}u_{jk}x_k}{u_{jj}}, j = n, n-1, \\cdot\\cdot\\cdot, 1.\n",
        "\\end{align}\n",
        "\n",
        "Here we assumed that $det𝑈≠0$.\n"
      ]
    },
    {
      "cell_type": "code",
      "execution_count": null,
      "metadata": {
        "id": "r0-WCKM1OZKC"
      },
      "outputs": [],
      "source": [
        "# def get_result_gaussian_elimination(n, A):\n",
        "#   # n is the number of unknowns\n",
        "#   # A is the Augmented n x n+1 matrix. (numpy array)\n",
        "\n",
        "\n",
        "#   # Making numpy array of n size and initializing\n",
        "#   # to zero for storing solution vector\n",
        "#   x = np.zeros(n)\n",
        "#   for i in range(n):\n",
        "#     if A[i][i] == 0.0:\n",
        "#       print ('Divide by zero detected!')\n",
        "#     else:\n",
        "#       for j in range(i+1, n):\n",
        "#         ratio = A[j][i]/A[i][i]\n",
        "#         for k in range(n+1):\n",
        "\n",
        "#   # YOUR CODE HERE\n",
        "\n",
        "#   # HINT:\n",
        "#   # 1. Apply Gauss Elimination\n",
        "#   # 2. Apply Back Substitution\n",
        "\n",
        "#   return x"
      ]
    },
    {
      "cell_type": "code",
      "execution_count": null,
      "metadata": {
        "id": "lRmNTg50Ex4z"
      },
      "outputs": [],
      "source": [
        "def get_result_gaussian_elimination(n, A):\n",
        "  # n is the number of unknowns\n",
        "  # A is the Augmented n x n+1 matrix. (numpy array)\n",
        "\n",
        "\n",
        "  # Making numpy array of n size and initializing\n",
        "  # to zero for storing solution vector\n",
        "  x = np.zeros(n)\n",
        "\n",
        "  # YOUR CODE HERE\n",
        "  # Applying Gauss Elimination\n",
        "  for i in range(n):\n",
        "      if A[i][i] == 0.0:\n",
        "          print('Divide by zero detected!')\n",
        "\n",
        "      for j in range(i+1, n):\n",
        "\n",
        "          m = A[j][i]/A[i][i]\n",
        "          A[j] = A[j] - m*A[i]\n",
        "\n",
        "          # for k in range(n+1):\n",
        "          #     A[j][k] = A[j][k] - m * A[i][k]\n",
        "\n",
        "  # Back Substitution\n",
        "  print(A)\n",
        "  x[n-1] = A[n-1][n]/A[n-1][n-1]\n",
        "\n",
        "  for i in range(n-2,-1,-1):\n",
        "      x[i] = A[i][n]\n",
        "\n",
        "      for j in range(i+1,n):\n",
        "          x[i] = x[i] - A[i][j]*x[j]\n",
        "\n",
        "      x[i] = x[i]/A[i][i]\n",
        "\n",
        "\n",
        "\n",
        "  return x"
      ]
    },
    {
      "cell_type": "code",
      "execution_count": null,
      "metadata": {
        "colab": {
          "base_uri": "https://localhost:8080/"
        },
        "id": "IjJuvkTBUifb",
        "outputId": "ea73784d-a4ea-496c-9bdd-ac615df8b3bc"
      },
      "outputs": [
        {
          "name": "stdout",
          "output_type": "stream",
          "text": [
            "[[ 1  2  1  0]\n",
            " [ 0 -4  1  4]\n",
            " [ 0  0 -2 12]]\n",
            "######\n",
            "[11.  -2.5 -6. ]\n"
          ]
        }
      ],
      "source": [
        "# Test case for the get_result_gaussian_elimination(n, A) function.\n",
        "\n",
        "data_n = 3\n",
        "data_A = np.array([[1, 2, 1, 0], [1, -2, 2, 4], [2, 12, -2, 4]])\n",
        "test = get_result_gaussian_elimination(data_n, data_A)\n",
        "results = [11, -2.5, -6]\n",
        "print('######')\n",
        "print(test)\n",
        "np.testing.assert_array_equal(test, results)"
      ]
    },
    {
      "cell_type": "markdown",
      "metadata": {
        "id": "n0dQsvBA1Wfr"
      },
      "source": [
        "# Daily Evaluation - 4 Marks"
      ]
    },
    {
      "cell_type": "code",
      "execution_count": null,
      "metadata": {
        "colab": {
          "base_uri": "https://localhost:8080/"
        },
        "id": "skVIkTuD1Zbs",
        "outputId": "f5762dd8-5407-424c-fdbd-a4a964401e4a"
      },
      "outputs": [
        {
          "name": "stdout",
          "output_type": "stream",
          "text": [
            "Yes\n"
          ]
        }
      ],
      "source": [
        "#1\n",
        "def get_result_gaussian_elimination(n, A):\n",
        "\n",
        "  for i in range(n):\n",
        "      if A[i][i] == 0.0:\n",
        "        return 'No'\n",
        "\n",
        "  return 'Yes'\n",
        "\n",
        "data_n = 4\n",
        "data_A = np.array([[1, 2, 3, 4], [2,4,6,8], [3,6,9,12],[4,8,12,16]])\n",
        "test = get_result_gaussian_elimination(data_n, data_A)\n",
        "print(test)\n"
      ]
    },
    {
      "cell_type": "code",
      "execution_count": null,
      "metadata": {
        "colab": {
          "base_uri": "https://localhost:8080/"
        },
        "id": "58RsWkhERrJg",
        "outputId": "a8c85c9d-1fb3-4b9d-e5d1-93f66784a80e"
      },
      "outputs": [
        {
          "name": "stdout",
          "output_type": "stream",
          "text": [
            "a\n",
            "\n",
            "[[0.75 0.5  0.25]\n",
            " [0.5  1.   0.5 ]\n",
            " [0.25 0.5  0.75]]\n",
            "\n",
            "b\n",
            "\n",
            "I : \n",
            "[[ 1.00000000e+00  0.00000000e+00  0.00000000e+00]\n",
            " [ 5.55111512e-17  1.00000000e+00 -1.11022302e-16]\n",
            " [-1.11022302e-16 -2.22044605e-16  1.00000000e+00]]\n"
          ]
        }
      ],
      "source": [
        "#2\n",
        "import numpy as np\n",
        "A = np.array([[2, -1, 0], [-1, 2, -1], [0, -1, 2]])\n",
        "A_inv = np.linalg.inv(A)\n",
        "print('a')\n",
        "print()\n",
        "print(A_inv)\n",
        "print()\n",
        "print('b')\n",
        "print()\n",
        "print('I : ')\n",
        "print(np.dot(A,A_inv))\n",
        "\n"
      ]
    },
    {
      "cell_type": "markdown",
      "metadata": {
        "id": "4d4HbgvvQyY8"
      },
      "source": []
    }
  ],
  "metadata": {
    "colab": {
      "provenance": []
    },
    "kernelspec": {
      "display_name": "Python 3",
      "name": "python3"
    },
    "language_info": {
      "name": "python"
    }
  },
  "nbformat": 4,
  "nbformat_minor": 0
}
